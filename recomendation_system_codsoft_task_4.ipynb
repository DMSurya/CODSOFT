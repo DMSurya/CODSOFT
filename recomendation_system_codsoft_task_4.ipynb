{
  "nbformat": 4,
  "nbformat_minor": 0,
  "metadata": {
    "colab": {
      "provenance": [],
      "authorship_tag": "ABX9TyM8nSsTdPB+0DAlN6fAVuAg",
      "include_colab_link": true
    },
    "kernelspec": {
      "name": "python3",
      "display_name": "Python 3"
    },
    "language_info": {
      "name": "python"
    }
  },
  "cells": [
    {
      "cell_type": "markdown",
      "metadata": {
        "id": "view-in-github",
        "colab_type": "text"
      },
      "source": [
        "<a href=\"https://colab.research.google.com/github/DMSurya/CODSOFT/blob/main/recomendation_system_codsoft_task_4.ipynb\" target=\"_parent\"><img src=\"https://colab.research.google.com/assets/colab-badge.svg\" alt=\"Open In Colab\"/></a>"
      ]
    },
    {
      "cell_type": "code",
      "execution_count": 1,
      "metadata": {
        "id": "4Hrr87Gsh7V2"
      },
      "outputs": [],
      "source": [
        "import pandas as pd\n",
        "from sklearn.feature_extraction.text import TfidfVectorizer\n",
        "from sklearn.metrics.pairwise import cosine_similarity"
      ]
    },
    {
      "cell_type": "code",
      "source": [
        "def load_data():\n",
        "    anime = pd.read_csv('/content/drive/MyDrive/anime-filtered.csv')\n",
        "    return anime"
      ],
      "metadata": {
        "id": "kkfVRnKSiCp0"
      },
      "execution_count": 2,
      "outputs": []
    },
    {
      "cell_type": "code",
      "source": [
        "def create_similarity_matrix(anime):\n",
        "    tfidf = TfidfVectorizer(stop_words='english')\n",
        "    anime['Genres'] = anime['Genres'].fillna('')\n",
        "    tfidf_matrix = tfidf.fit_transform(anime['Genres'])\n",
        "    cosine_sim = cosine_similarity(tfidf_matrix, tfidf_matrix)\n",
        "    indices = pd.Series(anime.index, index=anime['Name']).drop_duplicates()\n",
        "    return cosine_sim, indices, tfidf"
      ],
      "metadata": {
        "id": "u8V6H-VHiMgS"
      },
      "execution_count": 3,
      "outputs": []
    },
    {
      "cell_type": "code",
      "source": [
        "def get_anime_by_genre(anime, genre):\n",
        "    matched_anime = anime[anime['Genres'].str.contains(genre, case=False, na=False)]\n",
        "    return matched_anime"
      ],
      "metadata": {
        "id": "oEqu-Q6aiQCO"
      },
      "execution_count": 4,
      "outputs": []
    },
    {
      "cell_type": "code",
      "source": [
        "# Mount Google Drive\n",
        "from google.colab import drive\n",
        "drive.mount('/content/drive')\n",
        "\n",
        "# Now try loading the data again\n",
        "import pandas as pd\n",
        "def load_data():\n",
        "    anime = pd.read_csv('/content/drive/MyDrive/anime-filtered.csv')\n",
        "    return anime"
      ],
      "metadata": {
        "colab": {
          "base_uri": "https://localhost:8080/"
        },
        "id": "_MZXY1GBjFhf",
        "outputId": "68118289-8e1d-4f75-eca0-8b89c29ac2b5"
      },
      "execution_count": 14,
      "outputs": [
        {
          "output_type": "stream",
          "name": "stdout",
          "text": [
            "Drive already mounted at /content/drive; to attempt to forcibly remount, call drive.mount(\"/content/drive\", force_remount=True).\n"
          ]
        }
      ]
    },
    {
      "cell_type": "markdown",
      "source": [
        "Enter a genre: fantasy\n",
        "Anime matching the genre 'fantasy':\n",
        "                                                    Name  \\\n",
        "4                                         Bouken Ou Beet   \n",
        "11                                             One Piece   \n",
        "23                                  Kenpuu Denki Berserk   \n",
        "29                                           .hack//Sign   \n",
        "36                                           Arc the Lad   \n",
        "...                                                  ...   \n",
        "14937  Maou Gakuin no Futekigousha: Shijou Saikyou no...   \n",
        "14938  Maou Gakuin no Futekigousha: Shijou Saikyou no...   \n",
        "14941  Mahoutsukai no Yome: Nishi no Shounen to Seira...   \n",
        "14945                                   D_Cide Traumerei   \n",
        "14951                                      Scarlet Nexus   \n",
        "\n",
        "                                                  Genres  \n",
        "4              Adventure, Fantasy, Shounen, Supernatural  \n",
        "11     Action, Adventure, Comedy, Super Power, Drama,...  \n",
        "23     Action, Adventure, Demons, Drama, Fantasy, Hor...  \n",
        "29      Game, Sci-Fi, Adventure, Mystery, Magic, Fantasy  \n",
        "36            Action, Adventure, Fantasy, Horror, Sci-Fi  \n",
        "...                                                  ...  \n",
        "14937                             Magic, Fantasy, School  \n",
        "14938             Action, Demons, Magic, Fantasy, School  \n",
        "14941             Slice of Life, Magic, Fantasy, Shounen  \n",
        "14945           Action, Adventure, Drama, Magic, Fantasy  \n",
        "14951                                    Action, Fantasy  \n",
        "\n",
        "[2977 rows x 2 columns]"
      ],
      "metadata": {
        "id": "uh8UKJwKlGQf"
      }
    }
  ]
}